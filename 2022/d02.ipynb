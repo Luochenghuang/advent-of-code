{
 "cells": [
  {
   "cell_type": "code",
   "execution_count": 6,
   "id": "85f63e3c",
   "metadata": {},
   "outputs": [],
   "source": [
    "import aocd\n",
    "import dataclasses\n",
    "import numpy as np\n",
    "import enum\n",
    "\n",
    "real_data = aocd.get_data(day=2, year=2022)\n",
    "test_data = \"\"\"A Y\n",
    "B X\n",
    "C Z\"\"\""
   ]
  },
  {
   "cell_type": "code",
   "execution_count": 67,
   "id": "eafd7810",
   "metadata": {},
   "outputs": [
    {
     "data": {
      "text/plain": [
       "1"
      ]
     },
     "execution_count": 67,
     "metadata": {},
     "output_type": "execute_result"
    }
   ],
   "source": [
    "myself = 2\n",
    "opponent = 1\n",
    "(myself - opponent) % 3"
   ]
  },
  {
   "cell_type": "code",
   "execution_count": 72,
   "id": "fdd91ecc",
   "metadata": {},
   "outputs": [],
   "source": [
    "from typing import Sequence, Union\n",
    "\n",
    "def eval_win_score(opponent: int, myself: int) -> int:\n",
    "    \"\"\"Evaluates the winning score.\n",
    "    \n",
    "    win: 6 + myself\n",
    "    draw: 3 + myself\n",
    "    loss: 0 + myself\n",
    "    \n",
    "    Args:\n",
    "        opponent: integer value of the opponent. \n",
    "        \n",
    "    Returns:\n",
    "        the winning score\n",
    "    \"\"\"\n",
    "    eval_score = (myself - opponent) % 3 # draw: 0, win: 1, loss: 2\n",
    "    if eval_score == 0:\n",
    "        # draw\n",
    "        return 3 + myself\n",
    "    elif eval_score == 1:\n",
    "        return 6 + myself\n",
    "    elif eval_score == 2:\n",
    "        return myself\n",
    "\n",
    "@dataclasses.dataclass\n",
    "class SolverA:\n",
    "    \"\"\"\n",
    "    A solver instance.\n",
    "    \n",
    "    Args:\n",
    "        raw_data: the raw input data.\n",
    "    \"\"\"\n",
    "    raw_data: str\n",
    "\n",
    "    def __post_init__(self) -> None:\n",
    "        lines = self.raw_data.split(\"\\n\")\n",
    "        self.col0 = []\n",
    "        self.col1 = []\n",
    "        conv2num = {\n",
    "            'A': 1,\n",
    "            'B': 2,\n",
    "            'C': 3,\n",
    "            'X': 1,\n",
    "            'Y': 2,\n",
    "            'Z': 3,\n",
    "        }\n",
    "        for line in lines:\n",
    "            a, b = line.split(\" \")\n",
    "            self.col0.append(conv2num[a])\n",
    "            self.col1.append(conv2num[b])\n",
    "            \n",
    "            \n",
    "    def find_answer(self) -> int:\n",
    "        \"\"\"Finds the answer.\"\"\"\n",
    "        total_score = 0\n",
    "        for idx in range(len(self.col0)):\n",
    "            opponent = self.col0[idx]\n",
    "            myself = self.col1[idx]\n",
    "            total_score += eval_win_score(opponent, myself)\n",
    "        return total_score\n",
    "        "
   ]
  },
  {
   "cell_type": "code",
   "execution_count": 74,
   "id": "b97527e7",
   "metadata": {},
   "outputs": [
    {
     "name": "stdout",
     "output_type": "stream",
     "text": [
      "That's the right answer!  You are one gold star closer to collecting enough star fruit. [Continue to Part Two]\n"
     ]
    },
    {
     "data": {
      "text/plain": [
       "<Response [200]>"
      ]
     },
     "execution_count": 74,
     "metadata": {},
     "output_type": "execute_result"
    }
   ],
   "source": [
    "answer = SolverA(real_data).find_answer()\n",
    "aocd.submit(answer, part=\"a\", day=2, year=2022)"
   ]
  },
  {
   "cell_type": "code",
   "execution_count": 89,
   "id": "90a424ac",
   "metadata": {},
   "outputs": [
    {
     "name": "stdout",
     "output_type": "stream",
     "text": [
      "2\n"
     ]
    }
   ],
   "source": [
    "outcome = 2\n",
    "opponent = 2\n",
    "myself = (outcome + opponent) % 3 + 1\n",
    "print(myself)"
   ]
  },
  {
   "cell_type": "code",
   "execution_count": 90,
   "id": "033326ff",
   "metadata": {},
   "outputs": [],
   "source": [
    "from typing import Sequence, Union\n",
    "\n",
    "def eval_win_score(opponent: int, outcome: int) -> int:\n",
    "    \"\"\"Evaluates the winning score.\n",
    "    \n",
    "    win: 6 + myself\n",
    "    draw: 3 + myself\n",
    "    loss: 0 + myself\n",
    "    \n",
    "    Args:\n",
    "        opponent: the values from the opponent. \n",
    "        outcome: 1: lose, 2: draw, 3: win.\n",
    "    \"\"\"\n",
    "    myself = (outcome + opponent) % 3 + 1\n",
    "    if outcome == 1:\n",
    "        # lose\n",
    "        return myself\n",
    "    elif outcome == 2:\n",
    "        # draw\n",
    "        return 3 + myself\n",
    "    elif outcome == 3:\n",
    "        # win\n",
    "        return 6 + myself\n",
    "\n",
    "@dataclasses.dataclass\n",
    "class SolverB:\n",
    "    \"\"\"\n",
    "    A solver instance.\n",
    "    \n",
    "    Args:\n",
    "        raw_data: the raw input data.\n",
    "    \"\"\"\n",
    "    raw_data: str\n",
    "\n",
    "    def __post_init__(self):\n",
    "        lines = self.raw_data.split(\"\\n\")\n",
    "        self.col0 = []\n",
    "        self.col1 = []\n",
    "        conv2num = {\n",
    "            'A': 1,\n",
    "            'B': 2,\n",
    "            'C': 3,\n",
    "            'X': 1,\n",
    "            'Y': 2,\n",
    "            'Z': 3,\n",
    "        }\n",
    "        for line in lines:\n",
    "            a, b = line.split(\" \")\n",
    "            self.col0.append(conv2num[a])\n",
    "            self.col1.append(conv2num[b])\n",
    "            \n",
    "            \n",
    "    def find_answer(self) -> int:\n",
    "        \"\"\"Finds the answer.\n",
    "        \n",
    "        Returns:\n",
    "            The answer.\n",
    "        \"\"\"\n",
    "        total_score = 0\n",
    "        for idx in range(len(self.col0)):\n",
    "            opponent = self.col0[idx]\n",
    "            myself = self.col1[idx]\n",
    "            total_score += eval_win_score(myself, opponent)\n",
    "        return total_score\n",
    "        "
   ]
  },
  {
   "cell_type": "code",
   "execution_count": 92,
   "id": "1b59406d",
   "metadata": {},
   "outputs": [
    {
     "name": "stdout",
     "output_type": "stream",
     "text": [
      "That's the right answer!  You are one gold star closer to collecting enough star fruit.You have completed Day 2! You can [Shareon\n",
      "  Twitter\n",
      "Mastodon] this victory or [Return to Your Advent Calendar].\n"
     ]
    },
    {
     "data": {
      "text/plain": [
       "<Response [200]>"
      ]
     },
     "execution_count": 92,
     "metadata": {},
     "output_type": "execute_result"
    }
   ],
   "source": [
    "# print(SolverB(test_data).find_answer())\n",
    "answer = SolverA(real_data).find_answer()\n",
    "aocd.submit(answer, part=\"b\", day=2, year=2022)"
   ]
  },
  {
   "cell_type": "code",
   "execution_count": null,
   "id": "35de631b",
   "metadata": {},
   "outputs": [],
   "source": []
  }
 ],
 "metadata": {
  "kernelspec": {
   "display_name": "Python [conda env:aoc] *",
   "language": "python",
   "name": "conda-env-aoc-py"
  },
  "language_info": {
   "codemirror_mode": {
    "name": "ipython",
    "version": 3
   },
   "file_extension": ".py",
   "mimetype": "text/x-python",
   "name": "python",
   "nbconvert_exporter": "python",
   "pygments_lexer": "ipython3",
   "version": "3.8.13"
  }
 },
 "nbformat": 4,
 "nbformat_minor": 5
}
