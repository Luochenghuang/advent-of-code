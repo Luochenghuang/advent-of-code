{
 "cells": [
  {
   "cell_type": "code",
   "execution_count": 8,
   "id": "d01f4d94",
   "metadata": {},
   "outputs": [],
   "source": [
    "with open('input.txt') as f:\n",
    "    real_data = f.read()"
   ]
  },
  {
   "cell_type": "code",
   "execution_count": 9,
   "id": "85f63e3c",
   "metadata": {},
   "outputs": [],
   "source": [
    "import aocd\n",
    "import dataclasses\n",
    "import numpy as np\n",
    "import enum\n",
    "\n",
    "test_data = \"\"\"[1,1,3,1,1]\n",
    "[1,1,5,1,1]\n",
    "\n",
    "[[1],[2,3,4]]\n",
    "[[1],4]\n",
    "\n",
    "[9]\n",
    "[[8,7,6]]\n",
    "\n",
    "[[4,4],4,4]\n",
    "[[4,4],4,4,4]\n",
    "\n",
    "[7,7,7,7]\n",
    "[7,7,7]\n",
    "\n",
    "[]\n",
    "[3]\n",
    "\n",
    "[[[]]]\n",
    "[[]]\n",
    "\n",
    "[1,[2,[3,[4,[5,6,7]]]],8,9]\n",
    "[1,[2,[3,[4,[5,6,0]]]],8,9]\"\"\""
   ]
  },
  {
   "cell_type": "code",
   "execution_count": 24,
   "id": "fdd91ecc",
   "metadata": {},
   "outputs": [],
   "source": [
    "from typing import Sequence, Union, Type, Tuple\n",
    "import itertools\n",
    "\n",
    "\n",
    "def in_order(left, right, debug=False) -> Union[bool, None]:\n",
    "    \"\"\"See if the pair is in order.\n",
    "\n",
    "    Args:\n",
    "        left: the first list.\n",
    "        right: the second list.\n",
    "        \n",
    "    Returns:\n",
    "        whether or not the lists are in order.\n",
    "    \"\"\"\n",
    "    if debug: print(f\"Compare {left} vs {right}\")\n",
    "    if left == right:\n",
    "        return None\n",
    "    \n",
    "    if type(left) == int:\n",
    "        if type(right) == int:\n",
    "            return left < right\n",
    "        return in_order([left], right)\n",
    "    elif type(right) == int:\n",
    "        return in_order(left, [right])\n",
    "    else:\n",
    "        # both are lists\n",
    "        for i_left, i_right in zip(left, right):\n",
    "            if debug: print(f\"Compare {i_left} vs {i_right}\")\n",
    "            is_in_order = in_order(i_left, i_right)\n",
    "            if is_in_order is None:\n",
    "                continue\n",
    "            else:\n",
    "                return is_in_order\n",
    "        return in_order(len(left), len(right))\n",
    "\n",
    "        \n",
    "@dataclasses.dataclass\n",
    "class SolverA:\n",
    "    \"\"\"\n",
    "    A solver instance.\n",
    "    \n",
    "    Args:\n",
    "        raw_data: the raw input data.\n",
    "    \"\"\"\n",
    "    raw_data: str\n",
    "        \n",
    "    def __post_init__(self):\n",
    "        pairs = self.raw_data.split(\"\\n\\n\")\n",
    "        parsed_pairs = []\n",
    "        for pair in pairs:\n",
    "            list0, list1 = pair.split(\"\\n\")\n",
    "            parsed_pairs.append([eval(list0), eval(list1)])\n",
    "        self.pairs = parsed_pairs\n",
    "\n",
    "    def debug(self) -> None:\n",
    "        \"\"\"For debugging.\"\"\"\n",
    "        for idx, pair in enumerate(self.pairs):\n",
    "            print(f\"== Pair {idx + 1} ==\")\n",
    "            pair_in_order = in_order(*pair)\n",
    "            print(f\"{'In order' if pair_in_order else 'Not in order'}\")\n",
    "            in_order(*pair, debug=True)\n",
    "            print(\"\")\n",
    "            \n",
    "        \n",
    "    def find_answer(self) -> int:\n",
    "        \"\"\"Finds the answer.\n",
    "        \n",
    "        Returns:\n",
    "            The answer.\n",
    "        \"\"\"        \n",
    "        total_score = 0\n",
    "        for idx, pair in enumerate(self.pairs):\n",
    "            pair_in_order = in_order(*pair)\n",
    "            total_score += (idx + 1) if pair_in_order else 0\n",
    "        return total_score"
   ]
  },
  {
   "cell_type": "code",
   "execution_count": 25,
   "id": "aea52f7e",
   "metadata": {},
   "outputs": [
    {
     "name": "stdout",
     "output_type": "stream",
     "text": [
      "== Pair 1 ==\n",
      "In order\n",
      "Compare [1, 1, 3, 1, 1] vs [1, 1, 5, 1, 1]\n",
      "Compare 1 vs 1\n",
      "Compare 1 vs 1\n",
      "Compare 3 vs 5\n",
      "\n",
      "== Pair 2 ==\n",
      "In order\n",
      "Compare [[1], [2, 3, 4]] vs [[1], 4]\n",
      "Compare [1] vs [1]\n",
      "Compare [2, 3, 4] vs 4\n",
      "\n",
      "== Pair 3 ==\n",
      "Not in order\n",
      "Compare [9] vs [[8, 7, 6]]\n",
      "Compare 9 vs [8, 7, 6]\n",
      "\n",
      "== Pair 4 ==\n",
      "In order\n",
      "Compare [[4, 4], 4, 4] vs [[4, 4], 4, 4, 4]\n",
      "Compare [4, 4] vs [4, 4]\n",
      "Compare 4 vs 4\n",
      "Compare 4 vs 4\n",
      "\n",
      "== Pair 5 ==\n",
      "Not in order\n",
      "Compare [7, 7, 7, 7] vs [7, 7, 7]\n",
      "Compare 7 vs 7\n",
      "Compare 7 vs 7\n",
      "Compare 7 vs 7\n",
      "\n",
      "== Pair 6 ==\n",
      "In order\n",
      "Compare [] vs [3]\n",
      "\n",
      "== Pair 7 ==\n",
      "Not in order\n",
      "Compare [[[]]] vs [[]]\n",
      "Compare [[]] vs []\n",
      "\n",
      "== Pair 8 ==\n",
      "Not in order\n",
      "Compare [1, [2, [3, [4, [5, 6, 7]]]], 8, 9] vs [1, [2, [3, [4, [5, 6, 0]]]], 8, 9]\n",
      "Compare 1 vs 1\n",
      "Compare [2, [3, [4, [5, 6, 7]]]] vs [2, [3, [4, [5, 6, 0]]]]\n",
      "\n"
     ]
    }
   ],
   "source": [
    "SolverA(test_data).debug()"
   ]
  },
  {
   "cell_type": "code",
   "execution_count": 12,
   "id": "675c1103",
   "metadata": {},
   "outputs": [
    {
     "data": {
      "text/plain": [
       "13"
      ]
     },
     "execution_count": 12,
     "metadata": {},
     "output_type": "execute_result"
    }
   ],
   "source": [
    "SolverA(test_data).find_answer()"
   ]
  },
  {
   "cell_type": "code",
   "execution_count": 13,
   "id": "b97527e7",
   "metadata": {},
   "outputs": [
    {
     "data": {
      "text/plain": [
       "5196"
      ]
     },
     "execution_count": 13,
     "metadata": {},
     "output_type": "execute_result"
    }
   ],
   "source": [
    "SolverA(real_data).find_answer()"
   ]
  },
  {
   "cell_type": "code",
   "execution_count": 27,
   "id": "033326ff",
   "metadata": {},
   "outputs": [],
   "source": [
    "from typing import Sequence, Union, Type, Tuple\n",
    "import itertools\n",
    "\n",
    "def in_order(left, right, debug=False) -> Union[bool, None]:\n",
    "    \"\"\"See if the pair is in order.\n",
    "\n",
    "    Args:\n",
    "        left: the first list.\n",
    "        right: the second list.\n",
    "        \n",
    "    Returns:\n",
    "        whether or not the lists are in order.\n",
    "        If equal, then return None.\n",
    "    \"\"\"\n",
    "    if debug: print(f\"Compare {left} vs {right} -> \", end=\"\")\n",
    "    if left == right:\n",
    "        return None\n",
    "    \n",
    "    if type(left) == int:\n",
    "        if type(right) == int:\n",
    "            return left < right\n",
    "        return in_order([left], right)\n",
    "    elif type(right) == int:\n",
    "        return in_order(left, [right])\n",
    "    else:\n",
    "        # both are lists\n",
    "        for i_left, i_right in zip(left, right):\n",
    "            if debug: print(f\"Compare {i_left} vs {i_right} -> \", end=\"\")\n",
    "            is_in_order = in_order(i_left, i_right)\n",
    "            if is_in_order is None:\n",
    "                continue\n",
    "            else:\n",
    "                if debug: print(f\"{is_in_order}\")\n",
    "                return is_in_order\n",
    "        return in_order(len(left), len(right))\n",
    "\n",
    "\n",
    "        \n",
    "def sort_lines(lines: Sequence) -> Sequence:\n",
    "    \"\"\"Uses bubble sort to sort the lines into the right order.\n",
    "    \n",
    "    Args:\n",
    "        lines: the lists to sort.\n",
    "        \n",
    "    Returns:\n",
    "        sorted lines.\n",
    "    \"\"\"\n",
    "    n_lines = len(lines)\n",
    "    for i in range(n_lines - 1) :\n",
    "        swap = False\n",
    "        \n",
    "        for j in range(n_lines - 1) :\n",
    "            if not in_order(lines[j], lines[j + 1]): \n",
    "                lines[j], lines[j + 1] = lines[j + 1], lines[j]\n",
    "                swap = True\n",
    "                \n",
    "        if not swap:\n",
    "            continue\n",
    "\n",
    "    return lines\n",
    "        \n",
    "@dataclasses.dataclass\n",
    "class SolverB:\n",
    "    \"\"\"\n",
    "    A solver instance.\n",
    "    \n",
    "    Args:\n",
    "        raw_data: the raw input data.\n",
    "    \"\"\"\n",
    "    raw_data: str\n",
    "        \n",
    "    def __post_init__(self):\n",
    "        pairs = self.raw_data.split(\"\\n\\n\")\n",
    "        parsed_pairs = []\n",
    "        for pair in pairs:\n",
    "            list0, list1 = pair.split(\"\\n\")\n",
    "            parsed_pairs.append([eval(list0), eval(list1)])\n",
    "        self.pairs = parsed_pairs\n",
    "        \n",
    "        self.lines = []\n",
    "        for pair in self.pairs:\n",
    "            self.lines.extend(pair)\n",
    "        divider_packets = [[[2]], [[6]]]\n",
    "        self.lines.extend(divider_packets)\n",
    "\n",
    "    def debug(self) -> None:\n",
    "        \"\"\"For debugging.\"\"\"\n",
    "        sorted_lines = sort_lines(self.lines)\n",
    "        keys = []\n",
    "        for idx, line in enumerate(sorted_lines):\n",
    "            if line == [[2]] or line == [[6]]:\n",
    "                keys.append(idx + 1)\n",
    "        \n",
    "        return sorted_lines\n",
    "        \n",
    "    def find_answer(self) -> int:\n",
    "        \"\"\"Finds the answer.\n",
    "        \n",
    "        Returns:\n",
    "            The answer.\n",
    "        \"\"\"     \n",
    "        sorted_lines = sort_lines(self.lines)\n",
    "        \n",
    "        keys = []\n",
    "        for idx, line in enumerate(sorted_lines):\n",
    "            if line == [[2]] or line == [[6]]:\n",
    "                keys.append(idx + 1)\n",
    "        return keys[0] * keys[1]\n"
   ]
  },
  {
   "cell_type": "code",
   "execution_count": 23,
   "id": "cd86e677",
   "metadata": {},
   "outputs": [
    {
     "data": {
      "text/plain": [
       "[[],\n",
       " [[]],\n",
       " [[[]]],\n",
       " [1, 1, 3, 1, 1],\n",
       " [1, 1, 5, 1, 1],\n",
       " [[1], [2, 3, 4]],\n",
       " [1, [2, [3, [4, [5, 6, 0]]]], 8, 9],\n",
       " [1, [2, [3, [4, [5, 6, 7]]]], 8, 9],\n",
       " [[1], 4],\n",
       " [[2]],\n",
       " [3],\n",
       " [[4, 4], 4, 4],\n",
       " [[4, 4], 4, 4, 4],\n",
       " [[6]],\n",
       " [7, 7, 7],\n",
       " [7, 7, 7, 7],\n",
       " [[8, 7, 6]],\n",
       " [9]]"
      ]
     },
     "execution_count": 23,
     "metadata": {},
     "output_type": "execute_result"
    }
   ],
   "source": [
    "SolverB(test_data).debug()"
   ]
  },
  {
   "cell_type": "code",
   "execution_count": 28,
   "id": "c27cf112",
   "metadata": {},
   "outputs": [
    {
     "data": {
      "text/plain": [
       "140"
      ]
     },
     "execution_count": 28,
     "metadata": {},
     "output_type": "execute_result"
    }
   ],
   "source": [
    "SolverB(test_data).find_answer()"
   ]
  },
  {
   "cell_type": "code",
   "execution_count": 29,
   "id": "35de631b",
   "metadata": {},
   "outputs": [
    {
     "data": {
      "text/plain": [
       "22134"
      ]
     },
     "execution_count": 29,
     "metadata": {},
     "output_type": "execute_result"
    }
   ],
   "source": [
    "SolverB(real_data).find_answer()"
   ]
  }
 ],
 "metadata": {
  "kernelspec": {
   "display_name": "Python [conda env:aoc] *",
   "language": "python",
   "name": "conda-env-aoc-py"
  },
  "language_info": {
   "codemirror_mode": {
    "name": "ipython",
    "version": 3
   },
   "file_extension": ".py",
   "mimetype": "text/x-python",
   "name": "python",
   "nbconvert_exporter": "python",
   "pygments_lexer": "ipython3",
   "version": "3.8.13"
  }
 },
 "nbformat": 4,
 "nbformat_minor": 5
}
