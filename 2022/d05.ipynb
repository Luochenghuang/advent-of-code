{
 "cells": [
  {
   "cell_type": "code",
   "execution_count": 63,
   "id": "85f63e3c",
   "metadata": {},
   "outputs": [],
   "source": [
    "import aocd\n",
    "import dataclasses\n",
    "import numpy as np\n",
    "import enum\n",
    "\n",
    "real_data = aocd.get_data(day=5, year=2022)\n",
    "test_data = \"\"\"    [D]    \n",
    "[N] [C]    \n",
    "[Z] [M] [P]\n",
    " 1   2   3 \n",
    "\n",
    "move 1 from 2 to 1\n",
    "move 3 from 1 to 3\n",
    "move 2 from 2 to 1\n",
    "move 1 from 1 to 2\"\"\""
   ]
  },
  {
   "cell_type": "code",
   "execution_count": 144,
   "id": "fdd91ecc",
   "metadata": {},
   "outputs": [],
   "source": [
    "from typing import Sequence, Union\n",
    "\n",
    "def parse_col(input_str, col) -> Column:\n",
    "    \"\"\"Returns a list of char of the specified column. From top to bottom.\n",
    "    \n",
    "    Returns:\n",
    "        `Column` object\n",
    "    \"\"\"\n",
    "    lines = input_str.split(\"\\n\")\n",
    "    str_arr = []\n",
    "    for line in lines:\n",
    "        query_position = 1 + 4 * col\n",
    "        if len(line) >= query_position:\n",
    "            if line[query_position] != \" \":\n",
    "                str_arr.append(line[query_position])\n",
    "    return Column(str_arr[:-1])\n",
    "\n",
    "@dataclasses.dataclass\n",
    "class Column:\n",
    "    \"\"\"Defines an instance of column.\"\"\"\n",
    "    members: Sequence[str]\n",
    "    \n",
    "    def get_stack_from_row(self, row: int) -> Sequence[str]:\n",
    "        \"\"\"Subtracts the top stack given the row index. \n",
    "        \n",
    "        Return the stack in reverse order. Also fills the removed cretes with\n",
    "        empty spaces. The row position start at 1 at the very top.\n",
    "        \"\"\"\n",
    "        moved_crates = []\n",
    "        for position in range(row):\n",
    "            this_member = self.members[position]\n",
    "            moved_crates.insert(0, this_member)\n",
    "        self.members = self.members[row:]\n",
    "        return moved_crates\n",
    "    \n",
    "    def add(self, member_arr):\n",
    "        \"\"\"Adds more crates to the top.\"\"\"\n",
    "        self.members = member_arr + self.members\n",
    "\n",
    "@dataclasses.dataclass\n",
    "class SolverA:\n",
    "    \"\"\"\n",
    "    A solver instance.\n",
    "    \n",
    "    Args:\n",
    "        raw_data: the raw input data.\n",
    "    \"\"\"\n",
    "    raw_data: str\n",
    "\n",
    "    def __post_init__(self) -> None:\n",
    "        init_state, instructions = self.raw_data.split(\"\\n\\n\")\n",
    "        \n",
    "        last_line = init_state.split(\"\\n\")[-1]\n",
    "        n_cols = int((len(last_line) + 1) / 4)\n",
    "        self.col_members = [parse_col(init_state, x) for x in range(n_cols)]\n",
    "        \n",
    "        self.lines = []\n",
    "        for line in instructions.split(\"\\n\"):\n",
    "            args = line.split(\" \")\n",
    "            self.lines.append(\n",
    "                [int(args[1]), \n",
    "                 int(args[3]), \n",
    "                 int(args[5])]\n",
    "            )\n",
    "            \n",
    "    def find_answer(self) -> int:\n",
    "        \"\"\"Finds the answer.\n",
    "        \n",
    "        Returns:\n",
    "            The answer.\n",
    "        \"\"\"        \n",
    "        for line in self.lines:\n",
    "            self.move_stack(*line)\n",
    "        \n",
    "        return \"\".join([x.members[0] for x in self.col_members])\n",
    "    \n",
    "    def move_stack(self, move_row_i, from_col_i, to_col_i) -> None:\n",
    "        \"\"\"Move a single crate up top.\"\"\"\n",
    "        from_col = self.col_members[from_col_i - 1]\n",
    "        to_col = self.col_members[to_col_i - 1]\n",
    "        crates = from_col.get_stack_from_row(move_row_i)\n",
    "        to_col.add(crates)\n",
    "\n"
   ]
  },
  {
   "cell_type": "code",
   "execution_count": 145,
   "id": "dbbd5498",
   "metadata": {},
   "outputs": [
    {
     "data": {
      "text/plain": [
       "'CMZ'"
      ]
     },
     "execution_count": 145,
     "metadata": {},
     "output_type": "execute_result"
    }
   ],
   "source": [
    "SolverA(test_data).find_answer()"
   ]
  },
  {
   "cell_type": "code",
   "execution_count": 146,
   "id": "b97527e7",
   "metadata": {},
   "outputs": [
    {
     "name": "stdout",
     "output_type": "stream",
     "text": [
      "That's the right answer!  You are one gold star closer to collecting enough star fruit. [Continue to Part Two]\n"
     ]
    },
    {
     "data": {
      "text/plain": [
       "<Response [200]>"
      ]
     },
     "execution_count": 146,
     "metadata": {},
     "output_type": "execute_result"
    }
   ],
   "source": [
    "answer = SolverA(real_data).find_answer()\n",
    "aocd.submit(answer, part=\"a\", day=5, year=2022)"
   ]
  },
  {
   "cell_type": "code",
   "execution_count": 148,
   "id": "033326ff",
   "metadata": {},
   "outputs": [],
   "source": [
    "from typing import Sequence, Union\n",
    "\n",
    "def parse_col(input_str, col) -> Sequence[str]:\n",
    "    \"\"\"Returns a list of char of the specified column. From top to bottom.\n",
    "    \n",
    "    returns:\n",
    "        `Column` object\n",
    "    \"\"\"\n",
    "    lines = input_str.split(\"\\n\")\n",
    "    str_arr = []\n",
    "    for line in lines:\n",
    "        query_position = 1 + 4 * col\n",
    "        if len(line) >= query_position:\n",
    "            if line[query_position] != \" \":\n",
    "                str_arr.append(line[query_position])\n",
    "    return Column(str_arr[:-1])\n",
    "\n",
    "@dataclasses.dataclass\n",
    "class Column:\n",
    "    \"\"\"Defines an instance of column.\"\"\"\n",
    "    members: Sequence[str]\n",
    "    \n",
    "    def get_stack_from_row(self, row: int) -> Sequence[str]:\n",
    "        \"\"\"Subtracts the top stack given the row index. \n",
    "        \n",
    "        Return the stack in forward order. Also fills the removed cretes with\n",
    "        empty spaces. The row position start at 1 at the very top.\n",
    "        \"\"\"\n",
    "        moved_crates = []\n",
    "        for position in range(row):\n",
    "            this_member = self.members[position]\n",
    "            moved_crates.append(this_member)\n",
    "        self.members = self.members[row:]\n",
    "        return moved_crates\n",
    "    \n",
    "    def add(self, member_arr: Sequence(str)):\n",
    "        \"\"\"Adds more crates to the top.\"\"\"\n",
    "        self.members = member_arr + self.members\n",
    "\n",
    "@dataclasses.dataclass\n",
    "class SolverB:\n",
    "    \"\"\"\n",
    "    A solver instance.\n",
    "    \n",
    "    args:\n",
    "        raw_data: the raw input data.\n",
    "    \"\"\"\n",
    "    raw_data: str\n",
    "\n",
    "    def __post_init__(self):\n",
    "        init_state, instructions = self.raw_data.split(\"\\n\\n\")\n",
    "        \n",
    "        last_line = init_state.split(\"\\n\")[-1]\n",
    "        n_cols = int((len(last_line) + 1) / 4)\n",
    "        self.col_members = [parse_col(init_state, x) for x in range(n_cols)]\n",
    "        \n",
    "        self.lines = []\n",
    "        for line in instructions.split(\"\\n\"):\n",
    "            args = line.split(\" \")\n",
    "            self.lines.append(\n",
    "                [int(args[1]), \n",
    "                 int(args[3]), \n",
    "                 int(args[5])]\n",
    "            )\n",
    "            \n",
    "    def find_answer(self):\n",
    "        \"\"\"Finds the answer.\"\"\"\n",
    "        for line in self.lines:\n",
    "            self.move_stack(*line)\n",
    "        \n",
    "        return \"\".join([x.members[0] for x in self.col_members])\n",
    "    \n",
    "    def move_stack(self, move_row_i, from_col_i, to_col_i):\n",
    "        \"\"\"Move a single crate up top.\"\"\"\n",
    "        from_col = self.col_members[from_col_i - 1]\n",
    "        to_col = self.col_members[to_col_i - 1]\n",
    "        crates = from_col.get_stack_from_row(move_row_i)\n",
    "        to_col.add(crates)"
   ]
  },
  {
   "cell_type": "code",
   "execution_count": 149,
   "id": "1b59406d",
   "metadata": {},
   "outputs": [
    {
     "data": {
      "text/plain": [
       "'MCD'"
      ]
     },
     "execution_count": 149,
     "metadata": {},
     "output_type": "execute_result"
    }
   ],
   "source": [
    "SolverB(test_data).find_answer()"
   ]
  },
  {
   "cell_type": "code",
   "execution_count": 150,
   "id": "35de631b",
   "metadata": {},
   "outputs": [
    {
     "name": "stdout",
     "output_type": "stream",
     "text": [
      "That's the right answer!  You are one gold star closer to collecting enough star fruit.You have completed Day 5! You can [Shareon\n",
      "  Twitter\n",
      "Mastodon] this victory or [Return to Your Advent Calendar].\n"
     ]
    },
    {
     "data": {
      "text/plain": [
       "<Response [200]>"
      ]
     },
     "execution_count": 150,
     "metadata": {},
     "output_type": "execute_result"
    }
   ],
   "source": [
    "answer = SolverB(real_data).find_answer()\n",
    "aocd.submit(answer, part=\"b\", day=5, year=2022)"
   ]
  },
  {
   "cell_type": "code",
   "execution_count": null,
   "id": "1514cdb2",
   "metadata": {},
   "outputs": [],
   "source": []
  }
 ],
 "metadata": {
  "kernelspec": {
   "display_name": "Python [conda env:aoc] *",
   "language": "python",
   "name": "conda-env-aoc-py"
  },
  "language_info": {
   "codemirror_mode": {
    "name": "ipython",
    "version": 3
   },
   "file_extension": ".py",
   "mimetype": "text/x-python",
   "name": "python",
   "nbconvert_exporter": "python",
   "pygments_lexer": "ipython3",
   "version": "3.8.13"
  }
 },
 "nbformat": 4,
 "nbformat_minor": 5
}
