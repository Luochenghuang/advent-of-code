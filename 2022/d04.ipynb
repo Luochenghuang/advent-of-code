{
 "cells": [
  {
   "cell_type": "code",
   "execution_count": 1,
   "id": "85f63e3c",
   "metadata": {},
   "outputs": [],
   "source": [
    "import aocd\n",
    "import dataclasses\n",
    "import numpy as np\n",
    "import enum\n",
    "\n",
    "real_data = aocd.get_data(day=4, year=2022)\n",
    "test_data = \"\"\"2-4,6-8\n",
    "2-3,4-5\n",
    "5-7,7-9\n",
    "2-8,3-7\n",
    "6-6,4-6\n",
    "2-6,4-8\"\"\""
   ]
  },
  {
   "cell_type": "code",
   "execution_count": 16,
   "id": "fdd91ecc",
   "metadata": {},
   "outputs": [],
   "source": [
    "from typing import Sequence, Union\n",
    "\n",
    "    \n",
    "@dataclasses.dataclass\n",
    "class SolverA:\n",
    "    \"\"\"\n",
    "    A solver instance.\n",
    "    \n",
    "    Args:\n",
    "        raw_data: the raw input data.\n",
    "    \"\"\"\n",
    "    raw_data: str\n",
    "\n",
    "    def __post_init__(self) -> None:\n",
    "        lines = self.raw_data.split(\"\\n\")\n",
    "        self.g0 = []\n",
    "        self.g1 = []\n",
    "        for line in lines:\n",
    "            length = len(line)\n",
    "            first, second = line.split(\",\")\n",
    "            g0 = np.arange(int(first.split(\"-\")[0]), int(first.split(\"-\")[1]) + 1)\n",
    "            g1 = np.arange(int(second.split(\"-\")[0]), int(second.split(\"-\")[1]) + 1)\n",
    "            self.g0.append(set(g0))\n",
    "            self.g1.append(set(g1))\n",
    "            \n",
    "            \n",
    "    def find_answer(self) -> int:\n",
    "        \"\"\"Finds the answer.\n",
    "        \n",
    "        Returns:\n",
    "            The answer.\n",
    "        \"\"\"\n",
    "        total = 0\n",
    "        for idx in range(len(self.g0)):\n",
    "            set0, set1 = self.g0[idx], self.g1[idx]\n",
    "            if (set0.issubset(set1)) or (set1.issubset(set0)):\n",
    "                total += 1\n",
    "        return total"
   ]
  },
  {
   "cell_type": "code",
   "execution_count": 17,
   "id": "b56f1a63",
   "metadata": {},
   "outputs": [
    {
     "name": "stdout",
     "output_type": "stream",
     "text": [
      "2\n"
     ]
    }
   ],
   "source": [
    "answer = SolverA(test_data).find_answer()\n",
    "print(answer)"
   ]
  },
  {
   "cell_type": "code",
   "execution_count": 18,
   "id": "b97527e7",
   "metadata": {},
   "outputs": [
    {
     "name": "stdout",
     "output_type": "stream",
     "text": [
      "That's the right answer!  You are one gold star closer to collecting enough star fruit. [Continue to Part Two]\n"
     ]
    },
    {
     "data": {
      "text/plain": [
       "<Response [200]>"
      ]
     },
     "execution_count": 18,
     "metadata": {},
     "output_type": "execute_result"
    }
   ],
   "source": [
    "answer = SolverA(real_data).find_answer()\n",
    "aocd.submit(answer, part=\"a\", day=4, year=2022)"
   ]
  },
  {
   "cell_type": "code",
   "execution_count": 23,
   "id": "033326ff",
   "metadata": {},
   "outputs": [],
   "source": [
    "from typing import Sequence, Union\n",
    "\n",
    "    \n",
    "@dataclasses.dataclass\n",
    "class SolverB:\n",
    "    \"\"\"\n",
    "    A solver instance.\n",
    "    \n",
    "    args:\n",
    "        raw_data: the raw input data.\n",
    "    \"\"\"\n",
    "    raw_data: str\n",
    "\n",
    "    def __post_init__(self) -> None:\n",
    "        lines = self.raw_data.split(\"\\n\")\n",
    "        self.g0 = []\n",
    "        self.g1 = []\n",
    "        for line in lines:\n",
    "            length = len(line)\n",
    "            first, second = line.split(\",\")\n",
    "            g0 = np.arange(int(first.split(\"-\")[0]), int(first.split(\"-\")[1]) + 1)\n",
    "            g1 = np.arange(int(second.split(\"-\")[0]), int(second.split(\"-\")[1]) + 1)\n",
    "            self.g0.append(set(g0))\n",
    "            self.g1.append(set(g1))\n",
    "            \n",
    "            \n",
    "    def find_answer(self) -> int:\n",
    "        \"\"\"Finds the answer.\n",
    "        \n",
    "        Returns:\n",
    "            The answer.\n",
    "        \"\"\"        \n",
    "        total = 0\n",
    "        for idx in range(len(self.g0)):\n",
    "            set0, set1 = self.g0[idx], self.g1[idx]\n",
    "            if bool(set(set0) & set(set1)):\n",
    "                total += 1\n",
    "        return total"
   ]
  },
  {
   "cell_type": "code",
   "execution_count": 24,
   "id": "1b59406d",
   "metadata": {},
   "outputs": [
    {
     "name": "stdout",
     "output_type": "stream",
     "text": [
      "4\n"
     ]
    }
   ],
   "source": [
    "answer = SolverB(test_data).find_answer()\n",
    "print(answer)"
   ]
  },
  {
   "cell_type": "code",
   "execution_count": 25,
   "id": "35de631b",
   "metadata": {},
   "outputs": [
    {
     "name": "stdout",
     "output_type": "stream",
     "text": [
      "That's the right answer!  You are one gold star closer to collecting enough star fruit.You have completed Day 4! You can [Shareon\n",
      "  Twitter\n",
      "Mastodon] this victory or [Return to Your Advent Calendar].\n"
     ]
    },
    {
     "data": {
      "text/plain": [
       "<Response [200]>"
      ]
     },
     "execution_count": 25,
     "metadata": {},
     "output_type": "execute_result"
    }
   ],
   "source": [
    "answer = SolverB(real_data).find_answer()\n",
    "aocd.submit(answer, part=\"b\", day=4, year=2022)"
   ]
  }
 ],
 "metadata": {
  "kernelspec": {
   "display_name": "Python [conda env:aoc] *",
   "language": "python",
   "name": "conda-env-aoc-py"
  },
  "language_info": {
   "codemirror_mode": {
    "name": "ipython",
    "version": 3
   },
   "file_extension": ".py",
   "mimetype": "text/x-python",
   "name": "python",
   "nbconvert_exporter": "python",
   "pygments_lexer": "ipython3",
   "version": "3.8.13"
  }
 },
 "nbformat": 4,
 "nbformat_minor": 5
}
