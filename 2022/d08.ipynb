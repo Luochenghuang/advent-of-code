{
 "cells": [
  {
   "cell_type": "code",
   "execution_count": 1,
   "id": "85f63e3c",
   "metadata": {},
   "outputs": [],
   "source": [
    "import aocd\n",
    "import dataclasses\n",
    "import numpy as np\n",
    "import enum\n",
    "\n",
    "real_data = aocd.get_data(day=8, year=2022)\n",
    "test_data = \"\"\"30373\n",
    "25512\n",
    "65332\n",
    "33549\n",
    "35390\"\"\""
   ]
  },
  {
   "cell_type": "code",
   "execution_count": 87,
   "id": "fdd91ecc",
   "metadata": {},
   "outputs": [],
   "source": [
    "from typing import Sequence, Union\n",
    "import itertools\n",
    "\n",
    "@enum.unique\n",
    "class Direction(enum.Enum):\n",
    "    \"\"\"Defines the direction\"\"\"\n",
    "    top = \"Top\"\n",
    "    bot = \"Bot\"\n",
    "    left = \"Left\"\n",
    "    right = \"Right\"\n",
    "    \n",
    "\n",
    "@dataclasses.dataclass\n",
    "class SolverA:\n",
    "    \"\"\"\n",
    "    A solver instance.\n",
    "    \n",
    "    args:\n",
    "        raw_data: the raw input data.\n",
    "    \"\"\"\n",
    "    raw_data: str\n",
    "\n",
    "    def __post_init__(self):\n",
    "        self.lines = self.raw_data.split(\"\\n\")\n",
    "        # convert to numpy array\n",
    "        \n",
    "        self.data = [\n",
    "            [int(xx) for xx in list(x)]\n",
    "            for x in self.raw_data.split(\"\\n\")\n",
    "        ]\n",
    "        \n",
    "        self.data = np.array(self.data)\n",
    "\n",
    "    def find_answer(self) -> int:\n",
    "        \"\"\"Finds the answer.\n",
    "        \n",
    "        Returns:\n",
    "            The answer.\n",
    "        \"\"\"\n",
    "        # calculate all the exterior visible trees\n",
    "        sx, sy = self.data.shape\n",
    "        n_trees_ex = 2 * sx + 2 * sy - 4\n",
    "        \n",
    "        # calculate the interior visible trees\n",
    "        n_trees_in = 0\n",
    "        for position in itertools.product(range(1, sx - 1), range(1, sy - 1)):\n",
    "            if self.is_visible(position):\n",
    "                n_trees_in += 1\n",
    "        return n_trees_in + n_trees_ex\n",
    "\n",
    "    def get_max(self, position: Sequence[int], direction: Direction) -> int:\n",
    "        \"\"\"Retrieves max tree height from the top, bottom, left, or right.\n",
    "        \n",
    "        Args:\n",
    "            position: the position of the queried tree.\n",
    "            direction: the direction to look out for.\n",
    "            \n",
    "        Returns:\n",
    "            the max height from top view.\n",
    "        \"\"\"\n",
    "        if direction is Direction.top:\n",
    "            return np.amax(self.data[:position[0], position[1]])\n",
    "        elif direction is Direction.bot:\n",
    "            return np.amax(self.data[position[0] + 1:, position[1]])\n",
    "        elif direction is Direction.left:\n",
    "            return np.amax(self.data[position[0], :position[1]])\n",
    "        elif direction is Direction.right:\n",
    "            return np.amax(self.data[position[0], position[1] + 1:])\n",
    "        raise ValueError(f\"Direction {direction} not found!\")\n",
    "\n",
    "    def is_visible(self, position: Sequence[int]) -> bool:\n",
    "        \"\"\"Check whether or not the tree given the position is visible.\n",
    "        \n",
    "        Args:\n",
    "            position: the position of the queried tree.\n",
    "            \n",
    "        Returns:\n",
    "            whether or not the tree given the position is visible.\n",
    "        \"\"\"\n",
    "        return np.any([\n",
    "            self.get_max(position, direction) < self.data[position[0], position[1]]\n",
    "            for direction in Direction\n",
    "        ])\n",
    "    "
   ]
  },
  {
   "cell_type": "code",
   "execution_count": 88,
   "id": "675c1103",
   "metadata": {},
   "outputs": [
    {
     "data": {
      "text/plain": [
       "21"
      ]
     },
     "execution_count": 88,
     "metadata": {},
     "output_type": "execute_result"
    }
   ],
   "source": [
    "SolverA(test_data).find_answer()"
   ]
  },
  {
   "cell_type": "code",
   "execution_count": 89,
   "id": "b97527e7",
   "metadata": {},
   "outputs": [
    {
     "name": "stdout",
     "output_type": "stream",
     "text": [
      "That's the right answer!  You are one gold star closer to collecting enough star fruit. [Continue to Part Two]\n"
     ]
    },
    {
     "data": {
      "text/plain": [
       "<Response [200]>"
      ]
     },
     "execution_count": 89,
     "metadata": {},
     "output_type": "execute_result"
    }
   ],
   "source": [
    "answer = SolverA(real_data).find_answer()\n",
    "aocd.submit(answer, part=\"a\", day=8, year=2022)"
   ]
  },
  {
   "cell_type": "code",
   "execution_count": 118,
   "id": "033326ff",
   "metadata": {},
   "outputs": [],
   "source": [
    "from typing import Sequence, Union\n",
    "import itertools\n",
    "\n",
    "@enum.unique\n",
    "class Direction(enum.Enum):\n",
    "    \"\"\"Defines the direction\"\"\"\n",
    "    top = \"Top\"\n",
    "    bot = \"Bot\"\n",
    "    left = \"Left\"\n",
    "    right = \"Right\"\n",
    "    \n",
    "\n",
    "@dataclasses.dataclass\n",
    "class SolverB:\n",
    "    \"\"\"\n",
    "    A solver instance.\n",
    "    \n",
    "    args:\n",
    "        raw_data: the raw input data.\n",
    "    \"\"\"\n",
    "    raw_data: str\n",
    "\n",
    "    def __post_init__(self):\n",
    "        self.lines = self.raw_data.split(\"\\n\")\n",
    "        # convert to numpy array\n",
    "        \n",
    "        self.data = [\n",
    "            [int(xx) for xx in list(x)]\n",
    "            for x in self.raw_data.split(\"\\n\")\n",
    "        ]\n",
    "        \n",
    "        self.data = np.array(self.data)\n",
    "\n",
    "    def find_answer(self) -> int:\n",
    "        \"\"\"Finds the answer.\n",
    "        \n",
    "        Returns:\n",
    "            The answer.\n",
    "        \"\"\"\n",
    "        sx, sy = self.data.shape\n",
    "\n",
    "        max_score = 0\n",
    "        for position in itertools.product(range(sx), range(sy)):\n",
    "            score = self.get_scenic_score(position)\n",
    "            if score > max_score:\n",
    "                max_score = score\n",
    "        return max_score\n",
    "\n",
    "    def see_how_many_trees_from(self, position: Sequence[int], direction: Direction) -> int:\n",
    "        \"\"\"Retrieves the number of trees you can see from that direction.\n",
    "        \n",
    "        Args:\n",
    "            position: the position of the queried tree.\n",
    "            direction: the direction to look out for.\n",
    "            \n",
    "        Returns:\n",
    "            the number of trees you can see from that direction.\n",
    "        \"\"\"\n",
    "        if direction is Direction.top:\n",
    "            tree_list = self.data[:position[0], position[1]].flatten()[::-1]\n",
    "        elif direction is Direction.bot:\n",
    "            tree_list = self.data[position[0] + 1:, position[1]].flatten()\n",
    "        elif direction is Direction.left:\n",
    "            tree_list = self.data[position[0], :position[1]].flatten()[::-1]\n",
    "        elif direction is Direction.right:\n",
    "            tree_list = self.data[position[0], position[1] + 1:].flatten()\n",
    "            \n",
    "        my_height = self.data[position[0], position[1]]\n",
    "        score = 0\n",
    "        for height in tree_list:\n",
    "            if my_height > height:\n",
    "                score += 1\n",
    "            else:\n",
    "                score += 1\n",
    "                break\n",
    "        return score\n",
    "        \n",
    "    def get_scenic_score(self, position: Sequence[int]) -> bool:\n",
    "        \"\"\"Retrieves the scenic score.\n",
    "        \n",
    "        A tree's scenic score is found by multiplying together its viewing distance \n",
    "        in each of the four directions. For this tree, this is 4 \n",
    "        (found by multiplying 1 * 1 * 2 * 2).\n",
    "        \n",
    "        Args:\n",
    "            position: the position of the queried tree.\n",
    "            direction: the direction to look out for.\n",
    "            \n",
    "        Returns:\n",
    "            the scenic score.\n",
    "        \"\"\"\n",
    "\n",
    "        return np.prod([\n",
    "            self.see_how_many_trees_from(position, direction)\n",
    "            for direction in Direction\n",
    "        ])\n"
   ]
  },
  {
   "cell_type": "code",
   "execution_count": 120,
   "id": "1b59406d",
   "metadata": {},
   "outputs": [
    {
     "data": {
      "text/plain": [
       "8"
      ]
     },
     "execution_count": 120,
     "metadata": {},
     "output_type": "execute_result"
    }
   ],
   "source": [
    "SolverB(test_data).find_answer()"
   ]
  },
  {
   "cell_type": "code",
   "execution_count": 119,
   "id": "35de631b",
   "metadata": {},
   "outputs": [
    {
     "name": "stdout",
     "output_type": "stream",
     "text": [
      "That's the right answer!  You are one gold star closer to collecting enough star fruit.You have completed Day 8! You can [Shareon\n",
      "  Twitter\n",
      "Mastodon] this victory or [Return to Your Advent Calendar].\n"
     ]
    },
    {
     "data": {
      "text/plain": [
       "<Response [200]>"
      ]
     },
     "execution_count": 119,
     "metadata": {},
     "output_type": "execute_result"
    }
   ],
   "source": [
    "answer = SolverB(real_data).find_answer()\n",
    "aocd.submit(answer, part=\"b\", day=8, year=2022)"
   ]
  }
 ],
 "metadata": {
  "kernelspec": {
   "display_name": "Python [conda env:aoc] *",
   "language": "python",
   "name": "conda-env-aoc-py"
  },
  "language_info": {
   "codemirror_mode": {
    "name": "ipython",
    "version": 3
   },
   "file_extension": ".py",
   "mimetype": "text/x-python",
   "name": "python",
   "nbconvert_exporter": "python",
   "pygments_lexer": "ipython3",
   "version": "3.8.13"
  }
 },
 "nbformat": 4,
 "nbformat_minor": 5
}
