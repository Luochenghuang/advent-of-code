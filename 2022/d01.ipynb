{
 "cells": [
  {
   "cell_type": "code",
   "execution_count": 10,
   "id": "65f2076f",
   "metadata": {},
   "outputs": [],
   "source": [
    "import aocd\n",
    "import dataclasses\n",
    "import numpy as np\n",
    "import enum\n",
    "\n",
    "real_data = aocd.get_data(day=1, year=2022)\n",
    "test_data = \"\"\"1000\n",
    "2000\n",
    "3000\n",
    "\n",
    "4000\n",
    "\n",
    "5000\n",
    "6000\n",
    "\n",
    "7000\n",
    "8000\n",
    "9000\n",
    "\n",
    "10000\"\"\""
   ]
  },
  {
   "cell_type": "code",
   "execution_count": 26,
   "id": "f8d69a07",
   "metadata": {},
   "outputs": [],
   "source": [
    "from typing import Sequence, Union\n",
    "\n",
    "@dataclasses.dataclass\n",
    "class SolverA:\n",
    "    \"\"\"\n",
    "    A solver instance.\n",
    "    \n",
    "    args:\n",
    "        raw_data: the raw input data.\n",
    "    \"\"\"\n",
    "    raw_data: str\n",
    "\n",
    "    def __post_init__(self):\n",
    "        chunks = self.raw_data.split(\"\\n\\n\")\n",
    "        self.elves = [[int(num) for num in chunk.split(\"\\n\")] for chunk in chunks]\n",
    "        \n",
    "    def find_answer(self) -> int:\n",
    "        \"\"\"Finds the answer.\"\"\"\n",
    "        \n",
    "        current_max = 0\n",
    "        for elf in self.elves:\n",
    "            this_sum = sum(elf)\n",
    "            if this_sum > current_max:\n",
    "                current_max = this_sum\n",
    "                \n",
    "        return current_max"
   ]
  },
  {
   "cell_type": "code",
   "execution_count": 27,
   "id": "1d7e9aaf",
   "metadata": {},
   "outputs": [
    {
     "name": "stdout",
     "output_type": "stream",
     "text": [
      "Part a already solved with same answer: 71924\n"
     ]
    }
   ],
   "source": [
    "answer = SolverA(real_data).find_answer()\n",
    "aocd.submit(answer, part=\"a\", day=1, year=2022)"
   ]
  },
  {
   "cell_type": "code",
   "execution_count": 47,
   "id": "111006f9",
   "metadata": {},
   "outputs": [],
   "source": [
    "@dataclasses.dataclass\n",
    "class SolverB:\n",
    "    \"\"\"\n",
    "    A solver instance.\n",
    "    \n",
    "    args:\n",
    "        raw_data: the raw input data.\n",
    "    \"\"\"\n",
    "    raw_data: str\n",
    "\n",
    "    def __post_init__(self):\n",
    "        chunks = self.raw_data.split(\"\\n\\n\")\n",
    "        self.elves = [[int(num) for num in chunk.split(\"\\n\")] for chunk in chunks]\n",
    "        \n",
    "    def find_answer(self) -> int:\n",
    "        \"\"\"Finds the answer.\"\"\"\n",
    "        \n",
    "        individual_calories = [sum(elf) for elf in self.elves]\n",
    "        sorted_cal = np.array(sorted(individual_calories))\n",
    "        sum_of_top_three = np.sum(sorted_cal[-3:])\n",
    "        return sum_of_top_three"
   ]
  },
  {
   "cell_type": "code",
   "execution_count": 48,
   "id": "e5f3d128",
   "metadata": {},
   "outputs": [
    {
     "name": "stdout",
     "output_type": "stream",
     "text": [
      "That's the right answer!  You are one gold star closer to collecting enough star fruit.You have completed Day 1! You can [Shareon\n",
      "  Twitter\n",
      "Mastodon] this victory or [Return to Your Advent Calendar].\n"
     ]
    },
    {
     "data": {
      "text/plain": [
       "<Response [200]>"
      ]
     },
     "execution_count": 48,
     "metadata": {},
     "output_type": "execute_result"
    }
   ],
   "source": [
    "answer = SolverB(real_data).find_answer()\n",
    "aocd.submit(answer, part=\"b\", day=1, year=2022)"
   ]
  }
 ],
 "metadata": {
  "kernelspec": {
   "display_name": "Python 3 (ipykernel)",
   "language": "python",
   "name": "python3"
  },
  "language_info": {
   "codemirror_mode": {
    "name": "ipython",
    "version": 3
   },
   "file_extension": ".py",
   "mimetype": "text/x-python",
   "name": "python",
   "nbconvert_exporter": "python",
   "pygments_lexer": "ipython3",
   "version": "3.8.13"
  }
 },
 "nbformat": 4,
 "nbformat_minor": 5
}
