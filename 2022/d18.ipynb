{
 "cells": [
  {
   "cell_type": "code",
   "execution_count": 3,
   "id": "85f63e3c",
   "metadata": {},
   "outputs": [],
   "source": [
    "import aocd\n",
    "import dataclasses\n",
    "import numpy as np\n",
    "import enum\n",
    "\n",
    "real_data = aocd.get_data(day=18, year=2022)\n",
    "test_data = \"\"\"2,2,2\n",
    "1,2,2\n",
    "3,2,2\n",
    "2,1,2\n",
    "2,3,2\n",
    "2,2,1\n",
    "2,2,3\n",
    "2,2,4\n",
    "2,2,6\n",
    "1,2,5\n",
    "3,2,5\n",
    "2,1,5\n",
    "2,3,5\"\"\""
   ]
  },
  {
   "cell_type": "code",
   "execution_count": 278,
   "id": "fdd91ecc",
   "metadata": {},
   "outputs": [],
   "source": [
    "from typing import Sequence, Union, Tuple, Type\n",
    "import copy\n",
    "import itertools\n",
    "import sys\n",
    "import random\n",
    "\n",
    "@dataclasses.dataclass\n",
    "class Cube:\n",
    "    \"\"\"Defines a cube instance.\n",
    "    \n",
    "    Args:\n",
    "        pos: the 3d position.\n",
    "    \"\"\"\n",
    "    pos: Tuple[int, int, int]\n",
    "\n",
    "    def scan_neighbours(self, coords: np.ndarray):\n",
    "        \"\"\"Tells each cubes how many open surfaces there are.\"\"\"\n",
    "        total = np.sum(np.sqrt(np.sum((self.pos - coords) ** 2, axis=1)) == 1)\n",
    "        self.n_open = 6 - total\n",
    "            \n",
    "@dataclasses.dataclass\n",
    "class SolverA:\n",
    "    \"\"\"\n",
    "    A solver instance.\n",
    "    \n",
    "    args:\n",
    "        raw_data: the raw input data.\n",
    "    \"\"\"\n",
    "    raw_data: str\n",
    "\n",
    "    def __post_init__(self):\n",
    "        self.lines = self.raw_data.splitlines()\n",
    "        num_lines = []\n",
    "        cubes = []\n",
    "        for line in self.lines:\n",
    "            position = [int(x) for x in line.split(\",\")]\n",
    "            num_lines.append(position)\n",
    "            cubes.append(Cube(pos=tuple(position)))\n",
    "        self.coords = np.array(num_lines)\n",
    "        self.cubes = cubes\n",
    "        \n",
    "\n",
    "\n",
    "    def answer(self) -> int:\n",
    "        for cube in self.cubes:\n",
    "            cube.scan_neighbours(self.coords)\n",
    "        return np.sum([cube.n_open for cube in self.cubes])"
   ]
  },
  {
   "cell_type": "code",
   "execution_count": 279,
   "id": "1cf17537",
   "metadata": {},
   "outputs": [
    {
     "data": {
      "text/plain": [
       "64"
      ]
     },
     "execution_count": 279,
     "metadata": {},
     "output_type": "execute_result"
    }
   ],
   "source": [
    "SolverA(test_data).answer()"
   ]
  },
  {
   "cell_type": "code",
   "execution_count": 281,
   "id": "48f1e483",
   "metadata": {
    "scrolled": false
   },
   "outputs": [
    {
     "data": {
      "text/plain": [
       "4636"
      ]
     },
     "execution_count": 281,
     "metadata": {},
     "output_type": "execute_result"
    }
   ],
   "source": [
    "SolverA(real_data).answer()"
   ]
  },
  {
   "cell_type": "code",
   "execution_count": 295,
   "id": "033326ff",
   "metadata": {},
   "outputs": [],
   "source": [
    "from typing import Sequence, Union, Tuple, Type\n",
    "import copy\n",
    "import itertools\n",
    "import sys\n",
    "import random\n",
    "\n",
    "# Let's find the congruent blocks from the outside and the \n",
    "# answer should be the total surface area of that block minus \n",
    "# the outtermost cube surface.\n",
    "\n",
    "\n",
    "@dataclasses.dataclass\n",
    "class Cube:\n",
    "    \"\"\"Defines a cube instance.\n",
    "    \n",
    "    Args:\n",
    "        pos: the 3d position.\n",
    "    \"\"\"\n",
    "    pos: Tuple[int, int, int]\n",
    "\n",
    "    def scan_neighbours(self, coords: np.ndarray):\n",
    "        \"\"\"Tells each cubes how many open surfaces there are.\"\"\"\n",
    "        total = np.sum(np.sqrt(np.sum((self.pos - coords) ** 2, axis=1)) == 1)\n",
    "        self.n_open = 6 - total\n",
    "\n",
    "def get_cubes_coords(cubes: Sequence[Cube]) -> np.ndarray:\n",
    "    \"\"\"Finds the coordinates of all the cubes in the list.\"\"\"\n",
    "    coords = []\n",
    "    for cube in cubes:\n",
    "        coords.append(cube.pos)\n",
    "    return np.array(coords)\n",
    "            \n",
    "@dataclasses.dataclass\n",
    "class SolverB:\n",
    "    \"\"\"\n",
    "    A solver instance.\n",
    "    \n",
    "    args:\n",
    "        raw_data: the raw input data.\n",
    "    \"\"\"\n",
    "    raw_data: str\n",
    "\n",
    "    def __post_init__(self):\n",
    "        self.lines = self.raw_data.splitlines()\n",
    "\n",
    "        num_lines = []\n",
    "        for line in self.lines:\n",
    "            num_lines.append([\n",
    "                int(x) for x in line.split(\",\")\n",
    "            ])\n",
    "        self.coords = np.array(num_lines)\n",
    "        \n",
    "        v_max = np.amax(self.coords)\n",
    "        v_min = np.amax(np.min(self.coords))\n",
    "        v_range = int(v_max - v_min + 3)\n",
    "        self.canvas = np.zeros([v_range, v_range, v_range])\n",
    "        self.imax = v_range - 1\n",
    "\n",
    "        # load the data onto the canvas\n",
    "        c = 0\n",
    "        for coord in self.coords:\n",
    "            coord = tuple(coord - v_min + 1)\n",
    "            self.canvas[coord] = 1\n",
    "\n",
    "    def get_air_blocks(self) -> Sequence[Tuple[int, int, int]]:\n",
    "        \"\"\"Finds the congruent block of air surrounding the lava.\n",
    "        \n",
    "        Returns:\n",
    "            a list of all the coordinates of the air blocks.\n",
    "        \"\"\"\n",
    "        air_blocks = []\n",
    "        evaluated = []\n",
    "        queue = [(0, 0, 0)]\n",
    "        expansions = [\n",
    "            [0, 0, 1],\n",
    "            [0, 0, -1],\n",
    "            [0, 1, 0],\n",
    "            [0, -1, 0],\n",
    "            [1, 0, 0],\n",
    "            [-1, 0, 0]\n",
    "        ]\n",
    "        while len(queue) > 0:\n",
    "            position = queue.pop(0)\n",
    "            evaluated.append(position)\n",
    "\n",
    "            if self.canvas[position] == 0:\n",
    "                air_blocks.append(position)\n",
    "                for expansion in expansions:\n",
    "                    t = tuple(np.clip([a + b for a, b in zip(expansion, position)], 0, self.imax))\n",
    "                    if (t in queue) or (t in evaluated):\n",
    "                        continue\n",
    "                    queue.append(t)\n",
    "\n",
    "        return air_blocks\n",
    "    \n",
    "    def answer(self) -> int:\n",
    "        air_blocks = self.get_air_blocks()\n",
    "        cubes = []\n",
    "        for air_block_pos in air_blocks:\n",
    "            cubes.append(Cube(air_block_pos))\n",
    "            \n",
    "        air_cube_coords = get_cubes_coords(cubes)\n",
    "        for cube in cubes:\n",
    "            cube.scan_neighbours(air_cube_coords)\n",
    "            \n",
    "        exterior_surface = 6 * (self.imax + 1) ** 2\n",
    "        return np.sum([cube.n_open for cube in cubes]) - exterior_surface"
   ]
  },
  {
   "cell_type": "code",
   "execution_count": 296,
   "id": "05ddfe2e",
   "metadata": {},
   "outputs": [
    {
     "data": {
      "text/plain": [
       "58"
      ]
     },
     "execution_count": 296,
     "metadata": {},
     "output_type": "execute_result"
    }
   ],
   "source": [
    "SolverB(test_data).answer()"
   ]
  },
  {
   "cell_type": "code",
   "execution_count": 298,
   "id": "06803fe2",
   "metadata": {},
   "outputs": [
    {
     "data": {
      "text/plain": [
       "2572"
      ]
     },
     "execution_count": 298,
     "metadata": {},
     "output_type": "execute_result"
    }
   ],
   "source": [
    "SolverB(real_data).answer()"
   ]
  }
 ],
 "metadata": {
  "kernelspec": {
   "display_name": "Python [conda env:aoc] *",
   "language": "python",
   "name": "conda-env-aoc-py"
  },
  "language_info": {
   "codemirror_mode": {
    "name": "ipython",
    "version": 3
   },
   "file_extension": ".py",
   "mimetype": "text/x-python",
   "name": "python",
   "nbconvert_exporter": "python",
   "pygments_lexer": "ipython3",
   "version": "3.8.13"
  }
 },
 "nbformat": 4,
 "nbformat_minor": 5
}
