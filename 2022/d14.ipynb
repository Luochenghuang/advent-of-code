{
 "cells": [
  {
   "cell_type": "code",
   "execution_count": 1,
   "id": "85f63e3c",
   "metadata": {},
   "outputs": [],
   "source": [
    "import aocd\n",
    "import dataclasses\n",
    "import numpy as np\n",
    "import enum\n",
    "\n",
    "real_data = aocd.get_data(day=14, year=2022)\n",
    "test_data = \"\"\"498,4 -> 498,6 -> 496,6\n",
    "503,4 -> 502,4 -> 502,9 -> 494,9\"\"\""
   ]
  },
  {
   "cell_type": "code",
   "execution_count": 4,
   "id": "fdd91ecc",
   "metadata": {},
   "outputs": [],
   "source": [
    "from typing import Sequence, Union, Tuple\n",
    "import copy\n",
    "import itertools\n",
    "\n",
    "def draw_line(\n",
    "    pos0: Tuple[int, int], \n",
    "    pos1: Tuple[int, int], \n",
    "    canvas: np.ndarray,\n",
    ") -> np.ndarray:\n",
    "    \"\"\"Draws a line on the terrain.\n",
    "    \n",
    "    Args:\n",
    "        pos0: position of the first point.\n",
    "        pos1: position of the second point.\n",
    "        canvas: input canvas.\n",
    "        \n",
    "    Returns:\n",
    "        output canvas after the line is drawn.\n",
    "    \"\"\"\n",
    "    if pos0[0] < pos1[0]:\n",
    "        a, b = pos0[0], pos1[0] + 1\n",
    "    else:\n",
    "        a, b = pos1[0], pos0[0] + 1\n",
    "        \n",
    "    if pos0[1] < pos1[1]:\n",
    "        c, d = pos0[1], pos1[1] + 1\n",
    "    else:\n",
    "        c, d = pos1[1], pos0[1] + 1\n",
    "    \n",
    "    canvas[a:b, c:d] = 1\n",
    "    return copy.deepcopy(canvas.astype(int))\n",
    "    \n",
    "def draw_n_lines(\n",
    "    line_input: str,\n",
    "    canvas: np.ndarray,\n",
    ") -> np.ndarray:\n",
    "    \"\"\"Draws multiple lines on the terrain, given a line of input.\n",
    "    \n",
    "    Args:\n",
    "        line_input: the input line.\n",
    "        canvas: input canvas.\n",
    "        \n",
    "    Returns:\n",
    "        output canvas after the line is drawn.\n",
    "    \"\"\"\n",
    "    positions = line_input.split(\" -> \")\n",
    "    for i in range(len(positions) - 1):\n",
    "        pos0 = [int(x) for x in positions[i].split(\",\")]\n",
    "        pos1 = [int(x) for x in positions[i + 1].split(\",\")]\n",
    "        canvas = draw_line(pos0, pos1, canvas)\n",
    "    return canvas\n",
    "    \n",
    "def next_frame(\n",
    "    terrain: np.ndarray, \n",
    "    sand_pos: Tuple[int, int],\n",
    ") -> Tuple[int, int]:\n",
    "    \"\"\"Simulates the next position of the sand particle.\n",
    "    \n",
    "    Args:\n",
    "        terrain: the input terrain.\n",
    "        sand_pos: the position of the sand particle.\n",
    "        \n",
    "    Returns:\n",
    "        the position of the sand in the next frame.\n",
    "    \"\"\"\n",
    "    # Define the three critical positions.\n",
    "    down_pos = sand_pos[0], sand_pos[1] + 1\n",
    "    down_left_pos = sand_pos[0] - 1, sand_pos[1] + 1\n",
    "    down_right_pos = sand_pos[0] + 1, sand_pos[1] + 1\n",
    "    \n",
    "    if terrain[down_pos] == 0:\n",
    "        return down_pos\n",
    "    elif terrain[down_left_pos] == 0:\n",
    "        return down_left_pos\n",
    "    elif terrain[down_right_pos] == 0:\n",
    "        return down_right_pos\n",
    "    else:\n",
    "        return copy.deepcopy(sand_pos)\n",
    "    \n",
    "\n",
    "def start_to_rest(\n",
    "    terrain: np.ndarray, \n",
    "    sand_pos: Tuple[int, int],\n",
    "    floor: int,\n",
    ") -> Union[np.ndarray, None]:\n",
    "    \"\"\"Simulates from the start of a sand particle to when it rests.\n",
    "    \n",
    "    Args:\n",
    "        terrain: the input terrain.\n",
    "        sand_pos: the position of the sand particle.\n",
    "        floor: the floor position. The \n",
    "        \n",
    "    Returns:\n",
    "        the new terrain with sand particle integrated as a rock.\n",
    "        if the sand reaches the floor, then returns None.\n",
    "    \"\"\"\n",
    "    while True:\n",
    "        # Halt if the sand hits the floor.\n",
    "        if sand_pos[1] >= floor:\n",
    "            return None\n",
    "        \n",
    "        old_sand_pos = copy.deepcopy(sand_pos)\n",
    "        sand_pos = next_frame(terrain, old_sand_pos)\n",
    "        if sand_pos == old_sand_pos:\n",
    "            break\n",
    "    new_terrain = copy.deepcopy(terrain)\n",
    "    new_terrain[sand_pos] = 1\n",
    "    return new_terrain\n",
    "    \n",
    "def find_bottom_pos(terrain: np.ndarray) -> int:\n",
    "    \"\"\"Finds the bottom position.\n",
    "    \n",
    "    Args:\n",
    "        terrain: the input terrain to scan for the bottom.\n",
    "        \n",
    "    Returns:\n",
    "        the bottom position.\n",
    "    \"\"\"\n",
    "    pos = terrain.shape[1] - 1\n",
    "    while True:\n",
    "        if np.sum(terrain[:, pos]) != 0:\n",
    "            return pos\n",
    "        pos -= 1\n",
    "    \n",
    "@dataclasses.dataclass\n",
    "class SolverA:\n",
    "    \"\"\"\n",
    "    A solver instance.\n",
    "    \n",
    "    args:\n",
    "        raw_data: the raw input data.\n",
    "    \"\"\"\n",
    "    raw_data: str\n",
    "\n",
    "    def __post_init__(self):\n",
    "        self.lines = self.raw_data.splitlines()\n",
    "        self.sand_pos = (500, 0)\n",
    "        \n",
    "    def debug(self):\n",
    "        \"\"\"For debugging.\"\"\"\n",
    "        terrain = np.zeros([600, 600])\n",
    "        sand_pos = self.sand_pos\n",
    "        for line in self.lines:\n",
    "            terrain = draw_n_lines(line, terrain)\n",
    "\n",
    "        bottom_pos = find_bottom_pos(terrain, 4)\n",
    "        run_n_particles = 25\n",
    "        for n_particle in range(run_n_particles):\n",
    "            terrain = start_to_rest(terrain, sand_pos, bottom_pos)     \n",
    "            if terrain is None:\n",
    "                return n_particle\n",
    "        print(np.transpose(terrain)[0:10, 494:504])\n",
    "        \n",
    "    def find_answer(self) -> int:\n",
    "        \"\"\"Finds the answer.\n",
    "        \n",
    "        Returns:\n",
    "            The answer.\n",
    "        \"\"\"\n",
    "        terrain = np.zeros([600, 600])\n",
    "        sand_pos = self.sand_pos\n",
    "        for line in self.lines:\n",
    "            terrain = draw_n_lines(line, terrain)\n",
    "\n",
    "        bottom_pos = find_bottom_pos(terrain)\n",
    "        \n",
    "        n_particle = 0\n",
    "        while True:\n",
    "            terrain = start_to_rest(terrain, sand_pos, bottom_pos)     \n",
    "            if terrain is None:\n",
    "                return n_particle\n",
    "            n_particle += 1"
   ]
  },
  {
   "cell_type": "code",
   "execution_count": 5,
   "id": "675c1103",
   "metadata": {},
   "outputs": [
    {
     "data": {
      "text/plain": [
       "24"
      ]
     },
     "execution_count": 5,
     "metadata": {},
     "output_type": "execute_result"
    }
   ],
   "source": [
    "SolverA(test_data).find_answer()"
   ]
  },
  {
   "cell_type": "code",
   "execution_count": 6,
   "id": "b97527e7",
   "metadata": {},
   "outputs": [
    {
     "name": "stdout",
     "output_type": "stream",
     "text": [
      "Part a already solved with same answer: 696\n"
     ]
    }
   ],
   "source": [
    "answer = SolverA(real_data).find_answer()\n",
    "aocd.submit(answer, part=\"a\", day=14, year=2022)"
   ]
  },
  {
   "cell_type": "code",
   "execution_count": 7,
   "id": "033326ff",
   "metadata": {},
   "outputs": [],
   "source": [
    "@dataclasses.dataclass\n",
    "class SolverB:\n",
    "    \"\"\"\n",
    "    A solver instance.\n",
    "    \n",
    "    args:\n",
    "        raw_data: the raw input data.\n",
    "    \"\"\"\n",
    "    raw_data: str\n",
    "\n",
    "    def __post_init__(self):\n",
    "        self.lines = self.raw_data.splitlines()\n",
    "        self.sand_pos = (500, 0)\n",
    "        \n",
    "    def find_answer(self) -> int:\n",
    "        \"\"\"Finds the answer.\n",
    "        \n",
    "        Returns:\n",
    "            The answer.\n",
    "        \"\"\"\n",
    "        terrain = np.zeros([1200, 600])\n",
    "        sand_pos = self.sand_pos\n",
    "        for line in self.lines:\n",
    "            terrain = draw_n_lines(line, terrain)\n",
    "\n",
    "        bottom_pos = find_bottom_pos(terrain)\n",
    "        terrain[:, bottom_pos + 2] = 1\n",
    "        \n",
    "        n_particle = 0\n",
    "        while True:\n",
    "            old_terrain = copy.copy(terrain)\n",
    "            terrain = start_to_rest(old_terrain, sand_pos, np.Inf) \n",
    "            if np.all(old_terrain == terrain):\n",
    "                return n_particle\n",
    "            n_particle += 1"
   ]
  },
  {
   "cell_type": "code",
   "execution_count": 8,
   "id": "cd86e677",
   "metadata": {},
   "outputs": [
    {
     "data": {
      "text/plain": [
       "93"
      ]
     },
     "execution_count": 8,
     "metadata": {},
     "output_type": "execute_result"
    }
   ],
   "source": [
    "SolverB(test_data).find_answer()"
   ]
  },
  {
   "cell_type": "code",
   "execution_count": 9,
   "id": "35de631b",
   "metadata": {},
   "outputs": [
    {
     "name": "stdout",
     "output_type": "stream",
     "text": [
      "Part b already solved with same answer: 23610\n"
     ]
    }
   ],
   "source": [
    "answer = SolverB(real_data).find_answer()\n",
    "aocd.submit(answer, part=\"b\", day=14, year=2022)"
   ]
  },
  {
   "cell_type": "code",
   "execution_count": null,
   "id": "2cbd9fc5",
   "metadata": {},
   "outputs": [],
   "source": []
  }
 ],
 "metadata": {
  "kernelspec": {
   "display_name": "Python [conda env:aoc] *",
   "language": "python",
   "name": "conda-env-aoc-py"
  },
  "language_info": {
   "codemirror_mode": {
    "name": "ipython",
    "version": 3
   },
   "file_extension": ".py",
   "mimetype": "text/x-python",
   "name": "python",
   "nbconvert_exporter": "python",
   "pygments_lexer": "ipython3",
   "version": "3.8.13"
  }
 },
 "nbformat": 4,
 "nbformat_minor": 5
}
