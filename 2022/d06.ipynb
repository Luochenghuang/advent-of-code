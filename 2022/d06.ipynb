{
 "cells": [
  {
   "cell_type": "code",
   "execution_count": 30,
   "id": "85f63e3c",
   "metadata": {},
   "outputs": [],
   "source": [
    "import aocd\n",
    "import dataclasses\n",
    "import numpy as np\n",
    "import enum\n",
    "\n",
    "real_data = aocd.get_data(day=6, year=2022)\n",
    "test_data = \"\"\"nznrnfrfntjfmvfwmzdfjlvtqnbhcprsg\"\"\""
   ]
  },
  {
   "cell_type": "code",
   "execution_count": 19,
   "id": "fdd91ecc",
   "metadata": {},
   "outputs": [],
   "source": [
    "from typing import Sequence, Union\n",
    "\n",
    "@dataclasses.dataclass\n",
    "class SolverA:\n",
    "    \"\"\"\n",
    "    A solver instance.\n",
    "    \n",
    "    args:\n",
    "        raw_data: the raw input data.\n",
    "    \"\"\"\n",
    "    raw_data: str\n",
    "\n",
    "    def __post_init__(self) -> None:\n",
    "        pass\n",
    "            \n",
    "    def find_answer(self) -> int:\n",
    "        \"\"\"Finds the answer.\"\"\"\n",
    "        # find position of the first unique 4 letters.\n",
    "        for position in range(len(self.raw_data)):\n",
    "            four = self.raw_data[position:position + 4]\n",
    "            if len(set(four)) == 4:\n",
    "                return position + 4\n",
    "        return None"
   ]
  },
  {
   "cell_type": "code",
   "execution_count": 20,
   "id": "dbbd5498",
   "metadata": {},
   "outputs": [
    {
     "data": {
      "text/plain": [
       "6"
      ]
     },
     "execution_count": 20,
     "metadata": {},
     "output_type": "execute_result"
    }
   ],
   "source": [
    "SolverA(test_data).find_answer()"
   ]
  },
  {
   "cell_type": "code",
   "execution_count": 21,
   "id": "b97527e7",
   "metadata": {},
   "outputs": [
    {
     "name": "stdout",
     "output_type": "stream",
     "text": [
      "That's the right answer!  You are one gold star closer to collecting enough star fruit. [Continue to Part Two]\n"
     ]
    },
    {
     "data": {
      "text/plain": [
       "<Response [200]>"
      ]
     },
     "execution_count": 21,
     "metadata": {},
     "output_type": "execute_result"
    }
   ],
   "source": [
    "answer = SolverA(real_data).find_answer()\n",
    "aocd.submit(answer, part=\"a\", day=6, year=2022)"
   ]
  },
  {
   "cell_type": "code",
   "execution_count": 31,
   "id": "033326ff",
   "metadata": {},
   "outputs": [],
   "source": [
    "from typing import Sequence, Union\n",
    "\n",
    "@dataclasses.dataclass\n",
    "class SolverB:\n",
    "    \"\"\"\n",
    "    A solver instance.\n",
    "    \n",
    "    args:\n",
    "        raw_data: the raw input data.\n",
    "    \"\"\"\n",
    "    raw_data: str\n",
    "\n",
    "    def __post_init__(self) -> None:\n",
    "        pass\n",
    "            \n",
    "    def find_answer(self) -> None:\n",
    "        \"\"\"Finds the answer.\"\"\"\n",
    "        # find position of the first unique 14 letters.\n",
    "        for position in range(len(self.raw_data)):\n",
    "            four = self.raw_data[position:position + 14]\n",
    "            if len(set(four)) == 14:\n",
    "                return position + 14\n",
    "        raise ValueError(\"No answer found!\")"
   ]
  },
  {
   "cell_type": "code",
   "execution_count": 32,
   "id": "1b59406d",
   "metadata": {},
   "outputs": [
    {
     "data": {
      "text/plain": [
       "29"
      ]
     },
     "execution_count": 32,
     "metadata": {},
     "output_type": "execute_result"
    }
   ],
   "source": [
    "SolverB(test_data).find_answer()"
   ]
  },
  {
   "cell_type": "code",
   "execution_count": 33,
   "id": "35de631b",
   "metadata": {},
   "outputs": [
    {
     "name": "stdout",
     "output_type": "stream",
     "text": [
      "That's the right answer!  You are one gold star closer to collecting enough star fruit.You have completed Day 6! You can [Shareon\n",
      "  Twitter\n",
      "Mastodon] this victory or [Return to Your Advent Calendar].\n"
     ]
    },
    {
     "data": {
      "text/plain": [
       "<Response [200]>"
      ]
     },
     "execution_count": 33,
     "metadata": {},
     "output_type": "execute_result"
    }
   ],
   "source": [
    "answer = SolverB(real_data).find_answer()\n",
    "aocd.submit(answer, part=\"b\", day=6, year=2022)"
   ]
  },
  {
   "cell_type": "code",
   "execution_count": null,
   "id": "1514cdb2",
   "metadata": {},
   "outputs": [],
   "source": []
  }
 ],
 "metadata": {
  "kernelspec": {
   "display_name": "Python [conda env:aoc] *",
   "language": "python",
   "name": "conda-env-aoc-py"
  },
  "language_info": {
   "codemirror_mode": {
    "name": "ipython",
    "version": 3
   },
   "file_extension": ".py",
   "mimetype": "text/x-python",
   "name": "python",
   "nbconvert_exporter": "python",
   "pygments_lexer": "ipython3",
   "version": "3.8.13"
  }
 },
 "nbformat": 4,
 "nbformat_minor": 5
}
